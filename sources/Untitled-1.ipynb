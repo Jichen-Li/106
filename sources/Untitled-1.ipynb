{
 "cells": [
  {
   "attachments": {},
   "cell_type": "markdown",
   "metadata": {},
   "source": [
    "### Overloading"
   ]
  },
  {
   "cell_type": "code",
   "execution_count": null,
   "metadata": {},
   "outputs": [],
   "source": [
    "class Vector :\n",
    "    def __init__ ( self , x , y ):\n",
    "        self.x = x \n",
    "        self.y = y \n",
    "    \n",
    "    def __add__ ( self , other ):\n",
    "        return Vector ( self .x + other.x , self.y + other.y)\n",
    "\n",
    "    def __mul__ ( self , scalar ):\n",
    "        return Vector ( self.x * scalar , self.y * scalar )"
   ]
  }
 ],
 "metadata": {
  "kernelspec": {
   "display_name": "manimce",
   "language": "python",
   "name": "python3"
  },
  "language_info": {
   "name": "python",
   "version": "3.9.15"
  },
  "orig_nbformat": 4,
  "vscode": {
   "interpreter": {
    "hash": "f74214d901dd91b3629b0dc2fd63f12c0a6baf319dbca4e4925dd4677f360493"
   }
  }
 },
 "nbformat": 4,
 "nbformat_minor": 2
}
